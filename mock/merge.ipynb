{
 "cells": [
  {
   "cell_type": "code",
   "execution_count": 11,
   "metadata": {},
   "outputs": [],
   "source": [
    "import pandas as pd\n",
    "import os"
   ]
  },
  {
   "cell_type": "code",
   "execution_count": 19,
   "metadata": {},
   "outputs": [],
   "source": [
    "# data processed to sorted by years\n",
    "path=\"./datas_processed/\"\n",
    "files = os.listdir(path)\n",
    "csv_files = [file for file in files if file.endswith('.csv')]\n",
    "yr=range(2004,2023)\n",
    "\n",
    "for i in yr:\n",
    "    data=pd.DataFrame()\n",
    "    for file in csv_files:\n",
    "        tmp=pd.read_csv(path+file)\n",
    "        data[file[:-4]]=tmp[f\"{i}\"]\n",
    "    tmp=pd.read_csv(\"./data/GDP.csv\")\n",
    "    data.index=tmp[\"地区\"]\n",
    "    data.to_csv(f\"./sorted/{i}.csv\")"
   ]
  },
  {
   "cell_type": "code",
   "execution_count": 28,
   "metadata": {},
   "outputs": [],
   "source": [
    "# sorted by years to sorted by region\n",
    "path=\"./sorted/\"\n",
    "yr=range(2004,2023)\n",
    "tmp=pd.read_csv(\"./data/GDP.csv\")\n",
    "location=tmp[\"地区\"].values\n",
    "for loct in location:\n",
    "    data=pd.DataFrame()\n",
    "    for i in yr:\n",
    "        tmp=pd.read_csv(path+f\"{i}.csv\")\n",
    "        addrow=tmp.loc[tmp[\"地区\"]==loct]\n",
    "        data=pd.concat([data,addrow])\n",
    "    data[\"Year\"]=range(2004,2023)\n",
    "    data.set_index(\"Year\",inplace=True)\n",
    "    data.drop(\"地区\",axis=1, inplace=True)\n",
    "    data.to_csv(f\"./region/{loct}.csv\")"
   ]
  },
  {
   "cell_type": "code",
   "execution_count": 14,
   "metadata": {},
   "outputs": [],
   "source": [
    "# import os\n",
    "# import pandas as pd\n",
    "\n",
    "# path=\"./region/\"\n",
    "\n",
    "# files=os.listdir(path)\n",
    "\n",
    "# ret=pd.DataFrame()\n",
    "\n",
    "# for file in files:\n",
    "#     tmp=pd.read_csv(path+file)\n",
    "#     ret=pd.concat([ret,tmp])\n",
    "\n",
    "# ret=ret.set_index(\"Year\")"
   ]
  },
  {
   "cell_type": "code",
   "execution_count": 15,
   "metadata": {},
   "outputs": [],
   "source": [
    "from numpy import poly1d,polyfit\n",
    "\n",
    "def extend(df,target):\n",
    "    df.dropna(inplace=True)\n",
    "    f = poly1d(polyfit(df[\"Year\"],df[target],1))\n",
    "    year=range(2004,2023)\n",
    "    ret=pd.DataFrame()\n",
    "    ret[\"Year\"]=year\n",
    "    t_v=[]\n",
    "    for i in year:\n",
    "        t_v.append(df.loc[df['Year'] == i, target].values[0] if sum(df['Year'] == i) > 0 else f(i))\n",
    "    ret[target]=t_v\n",
    "    return ret"
   ]
  },
  {
   "cell_type": "code",
   "execution_count": 25,
   "metadata": {},
   "outputs": [],
   "source": [
    "\n",
    "stable=pd.read_csv(\"./data/stable_index.csv\")\n",
    "stable=stable[[\"地区\",\"Year\",\"财政收入稳健指数\"]]\n",
    "epu=pd.read_csv(\"./data/epu.csv\")\n",
    "epu.drop(\"province_code\",axis=1, inplace=True)\n",
    "provs=stable[\"地区\"].unique()\n",
    "for prov in provs:\n",
    "    tmp=stable[stable[\"地区\"]==prov].copy()\n",
    "    tmp2=epu[epu[\"地区\"]==prov].copy()\n",
    "    tmp[\"Year\"]=tmp[\"Year\"].round(0).astype(int)\n",
    "    tmp.drop(\"地区\",axis=1,inplace=True)\n",
    "    tmp=extend(tmp,\"财政收入稳健指数\")\n",
    "    tmp2.drop(\"地区\",axis=1,inplace=True)\n",
    "    tmp2=extend(tmp2,\"EPU\")\n",
    "    tmp=pd.merge(tmp,tmp2,on='Year',how='outer')\n",
    "    tmp.set_index(\"Year\",inplace=True)\n",
    "    tmp.sort_index(ascending=True,inplace=True)\n",
    "    # tmp.drop(range(2000,2008),inplace=True)\n",
    "    tmp.to_csv(f\"./tmp/{prov}省.csv\")"
   ]
  },
  {
   "cell_type": "code",
   "execution_count": 26,
   "metadata": {},
   "outputs": [],
   "source": [
    "path1=\"./tmp/\"\n",
    "path2=\"./region/\"\n",
    "names1=os.listdir(path1)\n",
    "names2=os.listdir(path2)\n",
    "\n",
    "matching_files = [file1 for file1 in names1 for file2 in names2 if file1[:2] == file2[:2]]\n",
    "\n",
    "for file1 in names1:\n",
    "    for file2 in names2:\n",
    "        if file2[:2]==file1[:2]:\n",
    "            match = file2\n",
    "            break\n",
    "    os.rename(path1+file1,path1+match)\n",
    "    # df_region=pd.read_csv(path2+match)\n",
    "    # df_tmp=pd.read_csv(path1+match)"
   ]
  },
  {
   "cell_type": "code",
   "execution_count": 29,
   "metadata": {},
   "outputs": [],
   "source": [
    "for file1 in names1:\n",
    "    for file2 in names2:\n",
    "        if file2[:2]==file1[:2]:\n",
    "            match = file2\n",
    "            break\n",
    "    df_region=pd.read_csv(path2+match)\n",
    "    df_tmp=pd.read_csv(path1+match)\n",
    "    final_ret=df_region\n",
    "    final_ret[\"财政收入稳健指数\"]=df_tmp[\"财政收入稳健指数\"]\n",
    "    final_ret[\"EPU\"]=df_tmp[\"EPU\"]\n",
    "    final_ret.set_index('Year',inplace=True)\n",
    "    final_ret.sort_index(inplace=True)\n",
    "    final_ret.to_csv(path2+match)"
   ]
  }
 ],
 "metadata": {
  "kernelspec": {
   "display_name": "base",
   "language": "python",
   "name": "python3"
  },
  "language_info": {
   "codemirror_mode": {
    "name": "ipython",
    "version": 3
   },
   "file_extension": ".py",
   "mimetype": "text/x-python",
   "name": "python",
   "nbconvert_exporter": "python",
   "pygments_lexer": "ipython3",
   "version": "3.11.4"
  }
 },
 "nbformat": 4,
 "nbformat_minor": 2
}
