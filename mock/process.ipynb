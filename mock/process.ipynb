{
 "cells": [
  {
   "cell_type": "code",
   "execution_count": 91,
   "metadata": {},
   "outputs": [],
   "source": [
    "import pandas as pd\n",
    "import matplotlib.pyplot as plt\n",
    "import seaborn as sns\n",
    "import numpy as np\n",
    "import os\n",
    "sns.set_theme()"
   ]
  },
  {
   "cell_type": "code",
   "execution_count": 105,
   "metadata": {},
   "outputs": [
    {
     "name": "stdout",
     "output_type": "stream",
     "text": [
      "undergraduate_enrollment: 2004\n",
      "RD_effec_patent: 2004, 2005, 2006, 2007, 2010\n",
      "tech_invest: 2004, 2005, 2006\n",
      "patent: 2004, 2005, 2006, 2007, 2010\n",
      "RD_apply_patent: 2005, 2006, 2007, 2010\n",
      "st_people: 2004, 2005, 2006, 2007\n",
      "new_product_fund: 2005, 2006, 2007, 2010\n",
      "st_fund: 2004, 2005, 2006\n",
      "edu_expense: 2012, 2022\n",
      "RD_fund: 2005, 2006, 2007, 2010\n",
      "tech_job: 2004, 2005, 2006, 2007\n",
      "ftime_equ_personnel: 2005, 2006, 2007, 2010\n",
      "tech_market_turnover: 2004, 2005, 2006, 2007, 2008, 2009, 2010, 2011, 2012, 2013, 2014, 2015, 2016\n",
      "ave_students_enrolled: 2004, 2005, 2006, 2007\n",
      "wage_tech: 2004, 2005\n",
      "new_product_sales_revenue: 2005, 2006, 2007, 2010, 2014\n"
     ]
    }
   ],
   "source": [
    "df=pd.read_csv(\"./region/西藏自治区.csv\")\n",
    "\n",
    "vars = df.columns\n",
    "\n",
    "miss_var = {}\n",
    "\n",
    "for var in vars:\n",
    "    miss_rows = df[df[var].isna()]\n",
    "    miss_yrs = miss_rows['Year'].tolist()\n",
    "    miss_var[var] = miss_yrs\n",
    "\n",
    "for var, miss_yrs in miss_var.items():\n",
    "    if miss_yrs:\n",
    "        print(f\"{var}: {', '.join(map(str, miss_yrs))}\")\n"
   ]
  },
  {
   "cell_type": "markdown",
   "metadata": {},
   "source": [
    "## Nan\n",
    "\n",
    "- undergraduate_enrollment: 2004\n",
    "- RD_effec_patent: 2005, 2006, 2007, 2010\n",
    "- tech_invest: 2004, 2005, 2006\n",
    "- patent: 2005, 2006, 2007, 2010\n",
    "- RD_apply_patent: 2005, 2006, 2007, 2010\n",
    "- st_people: 2004, 2005, 2006, 2007\n",
    "- new_product_fund: 2005, 2006, 2007, 2010\n",
    "- st_fund: 2004, 2005, 2006\n",
    "- edu_expense: 2012, 2022\n",
    "- RD_fund: 2005, 2006, 2007, 2010\n",
    "- tech_job: 2004, 2005, 2006, 2007\n",
    "- ftime_equ_personnel: 2005, 2006, 2007, 2010\n",
    "- ave_students_enrolled: 2004, 2005, 2006, 2007\n",
    "- new_product_sales_revenue: 2005, 2006, 2007, 2010"
   ]
  },
  {
   "cell_type": "code",
   "execution_count": 93,
   "metadata": {},
   "outputs": [],
   "source": [
    "# # normalization\n",
    "\n",
    "# # Mark data\n",
    "\n",
    "# in_capi=[\"RD_fund\",\"new_product_fund\",\"st_fund\"]\n",
    "# in_human=[\"RD_people\",\"st_people\"]\n",
    "# out_sci=[\"invention_granted\",\"new_product_sales_revenue\"]\n",
    "# env=[\"tech_market_turnover\",\"GDP\"]\n",
    "\n",
    "# # import data\n",
    "# path=\"./region/\"\n",
    "# files=os.listdir(path=path)\n",
    "\n",
    "# dfs = []\n",
    "# keys=[]\n",
    "\n",
    "# for file in files:\n",
    "#     df = pd.read_csv(path+file)\n",
    "#     df=df.set_index(\"Year\")\n",
    "#     dfs.append(df) \n",
    "#     keys.append(file[:-4])\n",
    "    \n",
    "# ret = pd.concat(dfs, keys=keys)\n",
    "\n",
    "# ret.to_csv(\"all_loc.csv\")"
   ]
  },
  {
   "cell_type": "code",
   "execution_count": 94,
   "metadata": {},
   "outputs": [],
   "source": [
    "# Mark data\n",
    "\n",
    "in_capi=[\"RD_fund\",\"new_product_fund\",\"st_fund\"]\n",
    "in_human=[\"RD_people\",\"st_people\"]\n",
    "out_sci=[\"invention_granted\",\"new_product_sales_revenue\"]\n",
    "env=[\"tech_market_turnover\",\"GDP\"]\n",
    "\n",
    "# import data\n",
    "path=\"./region/\"\n",
    "\n",
    "# sample\n",
    "\n",
    "name='上海市.csv'\n",
    "\n",
    "origin=pd.read_csv(path+name)"
   ]
  },
  {
   "cell_type": "code",
   "execution_count": 95,
   "metadata": {},
   "outputs": [
    {
     "name": "stdout",
     "output_type": "stream",
     "text": [
      "                 K             L           I  out_sci      out_cap  \\\n",
      "Year                                                                 \n",
      "2008  2.038806e+06  6.317827e+06   89.090313    24468   48948483.0   \n",
      "2009  2.991985e+06  7.340113e+06   98.723449    34913   54440825.0   \n",
      "2010           NaN  8.921897e+06         NaN    48215          NaN   \n",
      "2011  4.476357e+06  6.883966e+06  109.939771    47960   77721952.0   \n",
      "2012  4.840159e+06  7.297961e+06  112.326827    51508   73999056.0   \n",
      "2013  5.282715e+06  1.334530e+07  115.442489    48680   76883835.0   \n",
      "2014  5.875628e+06  1.580843e+07  118.932042    50488   84469638.0   \n",
      "2015  5.716364e+06  1.649867e+07  118.080775    60623   74709344.0   \n",
      "2016  6.227825e+06  1.748205e+07  120.893364    64230   90334750.0   \n",
      "2017  6.787241e+06  2.002248e+07  123.843458    72806  100681518.0   \n",
      "2018  7.558225e+06  2.371116e+07  127.638338    92460   97967290.0   \n",
      "2019  8.516385e+06  3.089005e+07  132.043245   100587  101409491.0   \n",
      "2020  8.689280e+06  3.224702e+07  132.798884   139780  101592157.0   \n",
      "2021  1.076551e+07  3.903321e+07  140.945389   179317  105748814.0   \n",
      "2022  1.139439e+07  4.646400e+07  143.278346   178323  107853308.0   \n",
      "\n",
      "      env_market  env_gdp  stable_index         epu  \n",
      "Year                                                 \n",
      "2008      386.17  14536.9     94.290000   22.076963  \n",
      "2009      435.41  15742.4     94.600000   47.223877  \n",
      "2010      431.44  17915.4     99.370000  202.405868  \n",
      "2011      480.75  20009.7    107.440000  368.301392  \n",
      "2012      518.75  21305.6    116.340000  125.524651  \n",
      "2013      531.68  23204.1    123.770000  115.501282  \n",
      "2014      592.45  25269.8    131.400000   41.443859  \n",
      "2015      663.78  26887.0    152.130000  117.716484  \n",
      "2016      780.99  29887.0    165.820000  128.477142  \n",
      "2017      810.62  32925.0    169.040000   80.689178  \n",
      "2018     1225.19  36011.8    178.470000   94.987668  \n",
      "2019     1422.35  37987.6    163.300000   89.214151  \n",
      "2020     1583.22  38963.3    187.736818   83.440634  \n",
      "2021     2545.49  43653.2    196.158252   77.667117  \n",
      "2022     3870.73  44652.8    204.579685   71.893600  \n"
     ]
    }
   ],
   "source": [
    "# investment\n",
    "\n",
    "alpha = 0.3\n",
    "w = 0.5\n",
    "tax= 0.32\n",
    "\n",
    "ratio=(tax+1)*(0.25*1.08+0.5*(1.08**-1+1.05**1)+0.25*(1.08**-2+1.05**2))\n",
    "\n",
    "df=pd.DataFrame()\n",
    "df[\"K\"]=origin[\"new_product_fund\"]+w*origin[\"st_fund\"]\n",
    "df[\"L\"]=(origin[\"st_people\"]+origin[\"tech_job\"])*origin[\"wage_tech\"]*ratio\n",
    "df[\"I\"]=np.exp(alpha*np.log(df[\"K\"]))+(1-alpha)*np.log(df[\"L\"])\n",
    "df[\"out_sci\"]=origin[\"invention_granted\"]\n",
    "df[\"out_cap\"]=origin[\"new_product_sales_revenue\"]\n",
    "df[\"env_market\"]=origin[\"tech_market_turnover\"]\n",
    "df[\"env_gdp\"]=origin[\"GDP\"]\n",
    "df[\"stable_index\"]=origin[\"财政收入稳健指数\"]\n",
    "df[\"epu\"]=origin[\"EPU\"]\n",
    "df.set_index(origin[\"Year\"],inplace=True)\n",
    "\n",
    "# nan\n",
    "df.drop(range(2004,2008), inplace=True)\n",
    "print(df)"
   ]
  },
  {
   "cell_type": "code",
   "execution_count": 96,
   "metadata": {},
   "outputs": [
    {
     "name": "stdout",
     "output_type": "stream",
     "text": [
      "                 K             L           I  out_sci      out_cap  \\\n",
      "Year                                                                 \n",
      "2008  2.038806e+06  6.317827e+06   89.090313    24468   48948483.0   \n",
      "2009  2.991985e+06  7.340113e+06   98.723449    34913   54440825.0   \n",
      "2010  3.734171e+06  8.921897e+06  104.331610    48215   66081388.5   \n",
      "2011  4.476357e+06  6.883966e+06  109.939771    47960   77721952.0   \n",
      "2012  4.840159e+06  7.297961e+06  112.326827    51508   73999056.0   \n",
      "2013  5.282715e+06  1.334530e+07  115.442489    48680   76883835.0   \n",
      "2014  5.875628e+06  1.580843e+07  118.932042    50488   84469638.0   \n",
      "2015  5.716364e+06  1.649867e+07  118.080775    60623   74709344.0   \n",
      "2016  6.227825e+06  1.748205e+07  120.893364    64230   90334750.0   \n",
      "2017  6.787241e+06  2.002248e+07  123.843458    72806  100681518.0   \n",
      "2018  7.558225e+06  2.371116e+07  127.638338    92460   97967290.0   \n",
      "2019  8.516385e+06  3.089005e+07  132.043245   100587  101409491.0   \n",
      "2020  8.689280e+06  3.224702e+07  132.798884   139780  101592157.0   \n",
      "2021  1.076551e+07  3.903321e+07  140.945389   179317  105748814.0   \n",
      "2022  1.139439e+07  4.646400e+07  143.278346   178323  107853308.0   \n",
      "\n",
      "      env_market  env_gdp  stable_index         epu  \n",
      "Year                                                 \n",
      "2008      386.17  14536.9     94.290000   22.076963  \n",
      "2009      435.41  15742.4     94.600000   47.223877  \n",
      "2010      431.44  17915.4     99.370000  202.405868  \n",
      "2011      480.75  20009.7    107.440000  368.301392  \n",
      "2012      518.75  21305.6    116.340000  125.524651  \n",
      "2013      531.68  23204.1    123.770000  115.501282  \n",
      "2014      592.45  25269.8    131.400000   41.443859  \n",
      "2015      663.78  26887.0    152.130000  117.716484  \n",
      "2016      780.99  29887.0    165.820000  128.477142  \n",
      "2017      810.62  32925.0    169.040000   80.689178  \n",
      "2018     1225.19  36011.8    178.470000   94.987668  \n",
      "2019     1422.35  37987.6    163.300000   89.214151  \n",
      "2020     1583.22  38963.3    187.736818   83.440634  \n",
      "2021     2545.49  43653.2    196.158252   77.667117  \n",
      "2022     3870.73  44652.8    204.579685   71.893600  \n"
     ]
    }
   ],
   "source": [
    "l=[0,2,4]\n",
    "for i in l:\n",
    "    df.iloc[2,i]=(df.iloc[1,i]+df.iloc[3,i])/2\n",
    "print(df)\n"
   ]
  },
  {
   "cell_type": "code",
   "execution_count": 97,
   "metadata": {},
   "outputs": [
    {
     "name": "stdout",
     "output_type": "stream",
     "text": [
      "               I  out_sci      out_cap  env_market  env_gdp  stable_index  \\\n",
      "Year                                                                        \n",
      "2008   89.090313    24468   48948483.0      386.17  14536.9     94.290000   \n",
      "2009   98.723449    34913   54440825.0      435.41  15742.4     94.600000   \n",
      "2010  104.331610    48215   66081388.5      431.44  17915.4     99.370000   \n",
      "2011  109.939771    47960   77721952.0      480.75  20009.7    107.440000   \n",
      "2012  112.326827    51508   73999056.0      518.75  21305.6    116.340000   \n",
      "2013  115.442489    48680   76883835.0      531.68  23204.1    123.770000   \n",
      "2014  118.932042    50488   84469638.0      592.45  25269.8    131.400000   \n",
      "2015  118.080775    60623   74709344.0      663.78  26887.0    152.130000   \n",
      "2016  120.893364    64230   90334750.0      780.99  29887.0    165.820000   \n",
      "2017  123.843458    72806  100681518.0      810.62  32925.0    169.040000   \n",
      "2018  127.638338    92460   97967290.0     1225.19  36011.8    178.470000   \n",
      "2019  132.043245   100587  101409491.0     1422.35  37987.6    163.300000   \n",
      "2020  132.798884   139780  101592157.0     1583.22  38963.3    187.736818   \n",
      "2021  140.945389   179317  105748814.0     2545.49  43653.2    196.158252   \n",
      "2022  143.278346   178323  107853308.0     3870.73  44652.8    204.579685   \n",
      "\n",
      "             epu  \n",
      "Year              \n",
      "2008   22.076963  \n",
      "2009   47.223877  \n",
      "2010  202.405868  \n",
      "2011  368.301392  \n",
      "2012  125.524651  \n",
      "2013  115.501282  \n",
      "2014   41.443859  \n",
      "2015  117.716484  \n",
      "2016  128.477142  \n",
      "2017   80.689178  \n",
      "2018   94.987668  \n",
      "2019   89.214151  \n",
      "2020   83.440634  \n",
      "2021   77.667117  \n",
      "2022   71.893600  \n"
     ]
    }
   ],
   "source": [
    "df.drop([\"K\",\"L\"],axis=1,inplace=True)\n",
    "print(df)"
   ]
  },
  {
   "cell_type": "code",
   "execution_count": 98,
   "metadata": {},
   "outputs": [],
   "source": [
    "r0=(0.7+0.25+0.05)*800\n",
    "ret=0\n",
    "\n",
    "for t in range(1,16):\n",
    "    rt=r0*np.exp(-0.15*t)\n",
    "    ret+=rt\n",
    "\n",
    "df[\"out_sci\"]=df[\"out_sci\"]*ret\n",
    "\n",
    "# df[\"stable_index\"]=np.log(df[\"stable_index\"])\n",
    "# df[\"epu\"]=np.log(df[\"epu\"])\n",
    "# df[\"env_gdp\"]=np.log(df[\"env_gdp\"])\n",
    "# df[\"env_market\"]=np.log(df[\"env_market\"])\n",
    "df[\"out_cap\"]=np.log(df[\"out_cap\"])\n",
    "df[\"out_sci\"]=np.log(df[\"out_sci\"])"
   ]
  },
  {
   "cell_type": "code",
   "execution_count": 99,
   "metadata": {},
   "outputs": [
    {
     "name": "stdout",
     "output_type": "stream",
     "text": [
      "        out_sci  env_market  env_gdp  stable_index         epu           I\n",
      "Year                                                                      \n",
      "2011  19.172539      480.75  20009.7    107.440000  368.301392  107.416098\n",
      "2012  19.243909      518.75  21305.6    116.340000  125.524651  110.769486\n",
      "2013  19.187440      531.68  23204.1    123.770000  115.501282  114.149732\n",
      "2014  19.223908      592.45  25269.8    131.400000   41.443859  117.417827\n",
      "2015  19.406846      663.78  26887.0    152.130000  117.716484  117.812722\n",
      "2016  19.464642      780.99  29887.0    165.820000  128.477142  120.177277\n",
      "2017  19.589970      810.62  32925.0    169.040000   80.689178  122.536542\n",
      "2018  19.828948     1225.19  36011.8    178.470000   94.987668  126.057360\n",
      "2019  19.913195     1422.35  37987.6    163.300000   89.214151  130.152541\n",
      "2020  20.242242     1583.22  38963.3    187.736818   83.440634  131.911456\n",
      "2021  20.491327     2545.49  43653.2    196.158252   77.667117  138.388092\n",
      "2022  20.485768     3870.73  44652.8    204.579685   71.893600  141.356483\n"
     ]
    }
   ],
   "source": [
    "# time window\n",
    "\n",
    "# Convolution\n",
    "\n",
    "df_sale=pd.DataFrame()\n",
    "df_research=pd.DataFrame()\n",
    "df_sale=df.copy().drop(\"out_sci\",axis=1)\n",
    "df_research=df.copy().drop([\"I\",\"out_cap\"],axis=1)\n",
    "df_research.drop(index=[2008,2009,2010],inplace=True)\n",
    "df_research[\"I\"]=df[\"I\"].drop(index=[2022,2021,2008]).values*0.15+df[\"I\"].drop(index=[2022,2008,2009]).values*0.15+df[\"I\"].drop(index=[2008,2009,2010]).values*0.7\n",
    "print(df_research)"
   ]
  },
  {
   "cell_type": "code",
   "execution_count": 100,
   "metadata": {},
   "outputs": [
    {
     "name": "stdout",
     "output_type": "stream",
     "text": [
      "Capital coeff: [[ 1.40310100e-02 -8.37839104e-05  7.94359364e-06  3.48231401e-04\n",
      "   3.66492578e-04]]\n",
      "Capital intercept: [16.32241711]\n",
      "Research coeff: [[ 3.79429190e-02  1.83837224e-05  1.33719975e-05 -4.32190513e-05\n",
      "   1.06346619e-03]]\n",
      "Research intercept: [14.44970249]\n"
     ]
    }
   ],
   "source": [
    "# regression\n",
    "from sklearn import linear_model\n",
    "\n",
    "reg_sale=linear_model.LinearRegression()\n",
    "X_sale=df_sale[[\"I\",\"env_market\",\"env_gdp\",\"stable_index\",\"epu\"]]\n",
    "reg_sale.fit(X_sale,df_sale[\"out_cap\"].to_numpy().reshape(-1,1))\n",
    "print(f\"Capital coeff: {reg_sale.coef_}\")\n",
    "print(f\"Capital intercept: {reg_sale.intercept_}\")\n",
    "\n",
    "reg_research=linear_model.LinearRegression()\n",
    "X_research=df_research[[\"I\",\"env_market\",\"env_gdp\",\"stable_index\",\"epu\"]]\n",
    "reg_research.fit(X_research,df_research[\"out_sci\"].to_numpy().reshape(-1,1))\n",
    "print(f\"Research coeff: {reg_research.coef_}\")\n",
    "print(f\"Research intercept: {reg_research.intercept_}\")"
   ]
  },
  {
   "cell_type": "code",
   "execution_count": 101,
   "metadata": {},
   "outputs": [],
   "source": [
    "# # regression\n",
    "# import statsmodels.api as sm\n",
    "# from statsmodels.stats.diagnostic import het_goldfeldquandt\n",
    "\n",
    "# X1=sm.add_constant(df_research[\"I\"])\n",
    "# reg_research=sm.OLS( df_research[\"out_sci\"],X1).fit()\n",
    "# print(reg_research.summary())\n",
    "# print()\n",
    "# print(het_goldfeldquandt(reg_research.resid, X1))\n",
    "\n",
    "# print()\n",
    "\n",
    "# X2=sm.add_constant(df_sale[\"I\"])\n",
    "# reg_sale=sm.OLS( df_sale[\"out_cap\"],X2).fit()\n",
    "# print(reg_sale.summary())\n",
    "# print()\n",
    "# print(het_goldfeldquandt(reg_sale.resid, X2))"
   ]
  },
  {
   "cell_type": "code",
   "execution_count": 112,
   "metadata": {},
   "outputs": [
    {
     "data": {
      "text/plain": [
       "'/Users/zhouzhaojiacheng/Desktop/mcm24/mock/china_map.html'"
      ]
     },
     "execution_count": 112,
     "metadata": {},
     "output_type": "execute_result"
    }
   ],
   "source": [
    "from pyecharts import options as opts\n",
    "from pyecharts.charts import Map\n",
    "\n",
    "\n",
    "province_dict = {\n",
    "    '北京市': 'Beijing',\n",
    "    '天津市': 'Tianjin',\n",
    "    '河北省': 'Hebei',\n",
    "    '山西省': 'Shanxi',\n",
    "    '内蒙古自治区': 'Inner Mongolia',\n",
    "    '辽宁省': 'Liaoning',\n",
    "    '吉林省': 'Jilin',\n",
    "    '黑龙江省': 'Heilongjiang',\n",
    "    '上海市': 'Shanghai',\n",
    "    '江苏省': 'Jiangsu',\n",
    "    '浙江省': 'Zhejiang',\n",
    "    '安徽省': 'Anhui',\n",
    "    '福建省': 'Fujian',\n",
    "    '江西省': 'Jiangxi',\n",
    "    '山东省': 'Shandong',\n",
    "    '河南省': 'Henan',\n",
    "    '湖北省': 'Hubei',\n",
    "    '湖南省': 'Hunan',\n",
    "    '广东省': 'Guangdong',\n",
    "    '广西壮族自治区': 'Guangxi',\n",
    "    '海南省': 'Hainan',\n",
    "    '重庆市': 'Chongqing',\n",
    "    '四川省': 'Sichuan',\n",
    "    '贵州省': 'Guizhou',\n",
    "    '云南省': 'Yunnan',\n",
    "    '西藏自治区': 'Tibet',\n",
    "    '陕西省': 'Shaanxi',\n",
    "    '甘肃省': 'Gansu',\n",
    "    '青海省': 'Qinghai',\n",
    "    '宁夏回族自治区': 'Ningxia',\n",
    "    '新疆维吾尔自治区': 'Xinjiang',\n",
    "    '台湾省': 'Taiwan',\n",
    "    '香港特别行政区': 'Hong Kong',\n",
    "    '澳门特别行政区': 'Macao'\n",
    "}\n",
    "\n",
    "# 中国地图数据\n",
    "data = [(\"Beijing\", 10), (\"Shanghai\", 20), (\"Guangdong\", 15), (\"Zhejiang\", 25)]\n",
    "\n",
    "# 创建地图\n",
    "map_chart = (\n",
    "    Map()\n",
    "    .add(\"Heat Map\", data, \"china\",name_map=province_dict,is_map_symbol_show=False)\n",
    "    .set_global_opts(\n",
    "        title_opts=opts.TitleOpts(title=\"China Map\"),\n",
    "        visualmap_opts=opts.VisualMapOpts(max_=30),\n",
    "    )\n",
    ")\n",
    "\n",
    "# 渲染地图\n",
    "map_chart.render(\"china_map.html\")\n"
   ]
  }
 ],
 "metadata": {
  "kernelspec": {
   "display_name": "base",
   "language": "python",
   "name": "python3"
  },
  "language_info": {
   "codemirror_mode": {
    "name": "ipython",
    "version": 3
   },
   "file_extension": ".py",
   "mimetype": "text/x-python",
   "name": "python",
   "nbconvert_exporter": "python",
   "pygments_lexer": "ipython3",
   "version": "3.11.4"
  }
 },
 "nbformat": 4,
 "nbformat_minor": 2
}
