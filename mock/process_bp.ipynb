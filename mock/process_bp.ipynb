{
 "cells": [
  {
   "cell_type": "code",
   "execution_count": null,
   "metadata": {},
   "outputs": [],
   "source": [
    "import pandas as pd\n",
    "import matplotlib.pyplot as plt\n",
    "import seaborn as sns\n",
    "sns.set_theme()"
   ]
  },
  {
   "cell_type": "code",
   "execution_count": null,
   "metadata": {},
   "outputs": [],
   "source": [
    "df=pd.read_csv(\"./region/北京市.csv\")\n",
    "\n",
    "vars = df.columns\n",
    "\n",
    "miss_var = {}\n",
    "\n",
    "for var in vars:\n",
    "    miss_rows = df[df[var].isna()]\n",
    "    miss_yrs = miss_rows['Year'].tolist()\n",
    "    miss_var[var] = miss_yrs\n",
    "\n",
    "for var, miss_yrs in miss_var.items():\n",
    "    if miss_yrs:\n",
    "        print(f\"{var}: {', '.join(map(str, miss_yrs))}\")\n"
   ]
  },
  {
   "cell_type": "markdown",
   "metadata": {},
   "source": [
    "## Nan\n",
    "\n",
    "- undergraduate_enrollment: 2004\n",
    "- RD_effec_patent: 2005, 2006, 2007, 2010\n",
    "- tech_invest: 2004, 2005, 2006\n",
    "- patent: 2005, 2006, 2007, 2010\n",
    "- RD_apply_patent: 2005, 2006, 2007, 2010\n",
    "- st_people: 2004, 2005, 2006, 2007\n",
    "- new_product_fund: 2005, 2006, 2007, 2010\n",
    "- st_fund: 2004, 2005, 2006\n",
    "- edu_expense: 2012, 2022\n",
    "- RD_fund: 2005, 2006, 2007, 2010\n",
    "- tech_job: 2004, 2005, 2006, 2007\n",
    "- ftime_equ_personnel: 2005, 2006, 2007, 2010\n",
    "- ave_students_enrolled: 2004, 2005, 2006, 2007\n",
    "- new_product_sales_revenue: 2005, 2006, 2007, 2010"
   ]
  },
  {
   "cell_type": "code",
   "execution_count": null,
   "metadata": {},
   "outputs": [],
   "source": [
    "# # Exploration\n",
    "\n",
    "# import pandas as pd\n",
    "\n",
    "# tmp=pd.read_csv(\"all.csv\")\n",
    "# tmp.drop(\"Year\",axis=1, inplace=True)\n",
    "# f = pd.melt(tmp, value_vars=tmp.columns)\n",
    "# f.dropna(inplace=True)\n",
    "# g = sns.FacetGrid(f, col=\"variable\", col_wrap=3, sharex=False, sharey=False)\n",
    "# g.map_dataframe(sns.histplot, x=\"value\", kde=True)\n",
    "\n",
    "# g.savefig(\"./pic/dist_all.png\")\n"
   ]
  },
  {
   "cell_type": "code",
   "execution_count": null,
   "metadata": {},
   "outputs": [],
   "source": [
    "# # Exploration\n",
    "\n",
    "# import os\n",
    "\n",
    "# path=\"./region/\"\n",
    "# files=os.listdir(path)\n",
    "\n",
    "# for file in files:\n",
    "#     tmp=pd.read_csv(path+file)\n",
    "#     tmp.drop(\"Year\",axis=1, inplace=True)\n",
    "#     f = pd.melt(tmp, value_vars=tmp.columns)\n",
    "#     f.dropna(inplace=True)\n",
    "#     g = sns.FacetGrid(f, col=\"variable\", col_wrap=3, sharex=False, sharey=False)\n",
    "#     g.map_dataframe(sns.histplot, x=\"value\", kde=True)\n",
    "\n",
    "#     g.savefig(\"./pic/\"+file[:-4]+'.png')"
   ]
  },
  {
   "cell_type": "code",
   "execution_count": null,
   "metadata": {},
   "outputs": [],
   "source": [
    "# # Exploration\n",
    "\n",
    "# in_capi=[\"RD_fund\",\"new_product_fund\",\"st_fund\"]\n",
    "# in_human=[\"tech_job\",\"st_people\"]\n",
    "# out_sci=[\"invention_granted\",\"new_product_sales_revenue\",\"patent\"]\n",
    "# env=[\"tech_market_turnover\",\"GDP\"]\n",
    "\n",
    "# s=in_capi+in_human+out_sci+env\n",
    "\n",
    "# tmp=pd.read_csv(\"all.csv\")\n",
    "# tmp.drop(\"Year\",axis=1, inplace=True)\n",
    "# tmp.dropna(inplace=True)\n",
    "# tmp=tmp[s]\n",
    "\n",
    "# plt.figure(1)\n",
    "# corr=tmp.corr('pearson')\n",
    "# sns.heatmap(corr)\n",
    "# plt.savefig(\"./pic/heatmap.png\")"
   ]
  },
  {
   "cell_type": "code",
   "execution_count": null,
   "metadata": {},
   "outputs": [],
   "source": [
    "# # Exploration\n",
    "\n",
    "# import os\n",
    "\n",
    "# from numpy import append\n",
    "\n",
    "# path=\"./region/\"\n",
    "# files=os.listdir(path)\n",
    "\n",
    "# in_capi=[\"RD_fund\",\"new_product_fund\",\"st_fund\"]\n",
    "# in_human=[\"tech_job\",\"st_people\"]\n",
    "# out_sci=[\"invention_granted\",\"new_product_sales_revenue\",\"patent\"]\n",
    "# env=[\"tech_market_turnover\",\"GDP\"]\n",
    "\n",
    "# s=in_capi+in_human+out_sci+env\n",
    "\n",
    "# i=1\n",
    "\n",
    "# for file in files:\n",
    "#     tmp=pd.read_csv(path+file)\n",
    "#     tmp.drop(\"Year\",axis=1, inplace=True)\n",
    "#     tmp.dropna(inplace=True)\n",
    "#     tmp=tmp[s]\n",
    "\n",
    "#     plt.figure(i)\n",
    "#     corr=tmp.corr('pearson')\n",
    "#     sns.heatmap(corr)\n",
    "#     plt.savefig(\"./pic/heatmap/\"+file[:-4])\n",
    "#     plt.show()"
   ]
  },
  {
   "cell_type": "code",
   "execution_count": null,
   "metadata": {},
   "outputs": [],
   "source": [
    "# # Test normalization\n",
    "\n",
    "# in_capi=[\"RD_fund\",\"new_product_fund\",\"st_fund\"]\n",
    "# in_human=[\"RD_people\",\"st_people\"]\n",
    "# out_sci=[\"invention_granted\",\"new_product_sales_revenue\",\"patent\"]\n",
    "# env=[\"tech_market_turnover\",\"GDP\"]\n",
    "\n",
    "# # import data\n",
    "# path=\"./region/\"\n",
    "# sample='上海市.csv'\n",
    "\n",
    "# df=pd.read_csv(path+sample)"
   ]
  },
  {
   "cell_type": "code",
   "execution_count": null,
   "metadata": {},
   "outputs": [],
   "source": [
    "# # Test normalization\n",
    "\n",
    "# import os\n",
    "# from numpy import log\n",
    "# from scipy.stats import shapiro\n",
    "\n",
    "# path=\"./region/\"\n",
    "# files=os.listdir(path)\n",
    "\n",
    "# in_capi=[\"RD_fund\",\"new_product_fund\",\"st_fund\"]\n",
    "# in_human=[\"tech_job\",\"st_people\"]\n",
    "# out_sci=[\"invention_granted\",\"new_product_sales_revenue\",\"patent\"]\n",
    "# env=[\"tech_market_turnover\",\"GDP\"]\n",
    "\n",
    "# s=in_capi+in_human+out_sci+env\n",
    "\n",
    "# for file in files:\n",
    "#     for feat in s:\n",
    "#         tmp=pd.read_csv(path+file)\n",
    "#         tmp.drop(\"Year\",axis=1, inplace=True)\n",
    "#         tmp=tmp[s]\n",
    "#         tmp.dropna(inplace=True)\n",
    "\n",
    "#         ret=shapiro(log(tmp.values))\n",
    "#         print(f\"{file}-{feat}: {ret.statistic}\")"
   ]
  },
  {
   "cell_type": "code",
   "execution_count": null,
   "metadata": {},
   "outputs": [],
   "source": [
    "# Test normalization\n",
    "\n",
    "import os\n",
    "\n",
    "path=\"./region/\"\n",
    "files=os.listdir(path)\n",
    "\n",
    "in_capi=[\"RD_fund\",\"new_product_fund\",\"st_fund\"]\n",
    "in_human=[\"tech_job\",\"st_people\"]\n",
    "out_sci=[\"invention_granted\",\"new_product_sales_revenue\",\"patent\"]\n",
    "env=[\"tech_market_turnover\",\"GDP\"]\n",
    "\n",
    "s=in_capi+in_human+out_sci+env\n",
    "\n",
    "for file in files:\n",
    "    for feat in s:\n",
    "        tmp=pd.read_csv(path+file)\n",
    "        tmp.drop(\"Year\",axis=1, inplace=True)\n",
    "        tmp=tmp[feat]\n",
    "        tmp.dropna(inplace=True)\n",
    "\n",
    "        ret=tmp.skew()\n",
    "        print(f\"{file}-{feat}: {ret}\")"
   ]
  },
  {
   "cell_type": "code",
   "execution_count": 51,
   "metadata": {},
   "outputs": [],
   "source": [
    "# normalization\n",
    "\n",
    "# Mark data\n",
    "\n",
    "in_capi=[\"RD_fund\",\"new_product_fund\",\"st_fund\"]\n",
    "in_human=[\"RD_people\",\"st_people\"]\n",
    "out_sci=[\"invention_granted\",\"new_product_sales_revenue\"]\n",
    "env=[\"tech_market_turnover\",\"GDP\"]\n",
    "\n",
    "# import data\n",
    "path=\"./region/\"\n",
    "files=os.listdir(path=path)\n",
    "\n",
    "dfs = []\n",
    "keys=[]\n",
    "\n",
    "for file in files:\n",
    "    df = pd.read_csv(path+file)\n",
    "    df=df.set_index(\"Year\")\n",
    "    dfs.append(df) \n",
    "    keys.append(file[:-4])\n",
    "    \n",
    "ret = pd.concat(dfs, keys=keys)\n",
    "\n",
    "ret.to_csv(\"all_loc.csv\")"
   ]
  },
  {
   "cell_type": "code",
   "execution_count": null,
   "metadata": {},
   "outputs": [],
   "source": [
    "# time window\n",
    "\n",
    "\n",
    "\n"
   ]
  },
  {
   "cell_type": "code",
   "execution_count": null,
   "metadata": {},
   "outputs": [],
   "source": [
    "# regression"
   ]
  }
 ],
 "metadata": {
  "kernelspec": {
   "display_name": "base",
   "language": "python",
   "name": "python3"
  },
  "language_info": {
   "codemirror_mode": {
    "name": "ipython",
    "version": 3
   },
   "file_extension": ".py",
   "mimetype": "text/x-python",
   "name": "python",
   "nbconvert_exporter": "python",
   "pygments_lexer": "ipython3",
   "version": "3.11.4"
  }
 },
 "nbformat": 4,
 "nbformat_minor": 2
}
