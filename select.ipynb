{
 "cells": [
  {
   "cell_type": "code",
   "execution_count": 7,
   "metadata": {},
   "outputs": [],
   "source": [
    "import pandas as pd\n",
    "\n",
    "nw_lon=[20.54,20.7]\n",
    "nw_lat=[38.51,38.57]\n",
    "nw={\"lat\":nw_lat,\"lon\":nw_lon,\"name\":\"nw\"}\n",
    "\n",
    "\n",
    "me_lon=[20.59,22.03]\n",
    "me_lat=[37.68,38.84]\n",
    "me={\"lat\":me_lat,\"lon\":me_lon,\"name\":\"me\"}\n",
    "\n",
    "se_lon=[20.55,21.67]\n",
    "se_lat=[37.36,38.5]\n",
    "se={\"lat\":se_lat,\"lon\":se_lon,\"name\":\"se\"}\n",
    "\n",
    "sw_lon=[20.18,21.34]\n",
    "sw_lat=[37.51,38.69]\n",
    "sw={\"lat\":sw_lat,\"lon\":sw_lon,\"name\":\"sw\"}\n",
    "\n",
    "zones=[nw,me,se,sw]\n",
    "tmp=pd.read_csv(\"./GEBCO_03_Feb_2024_7224d98466a9/uncleaned_gebco_2023_n38.933_s37.4955_w20.2114_e22.0318.csv\")"
   ]
  },
  {
   "cell_type": "code",
   "execution_count": 8,
   "metadata": {},
   "outputs": [],
   "source": [
    "for zone in zones:\n",
    "    ret=tmp.loc[tmp[\"elevation\"]<0]\n",
    "    condition=((ret[\"lat\"]>=zone[\"lat\"][0])& (ret[\"lat\"]<=zone[\"lat\"][1])& (ret[\"lon\"]>=zone[\"lon\"][0])& (ret[\"lon\"]<=zone[\"lon\"][1]))\n",
    "    ret=ret.loc[condition]\n",
    "    ret[\"elevation\"]=ret[\"elevation\"]*-1\n",
    "    ret.to_csv(zone[\"name\"]+\"dem.csv\",index=False)"
   ]
  }
 ],
 "metadata": {
  "kernelspec": {
   "display_name": "base",
   "language": "python",
   "name": "python3"
  },
  "language_info": {
   "codemirror_mode": {
    "name": "ipython",
    "version": 3
   },
   "file_extension": ".py",
   "mimetype": "text/x-python",
   "name": "python",
   "nbconvert_exporter": "python",
   "pygments_lexer": "ipython3",
   "version": "3.11.4"
  }
 },
 "nbformat": 4,
 "nbformat_minor": 2
}
