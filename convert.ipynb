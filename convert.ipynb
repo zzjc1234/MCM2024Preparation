{
 "cells": [
  {
   "cell_type": "code",
   "execution_count": null,
   "metadata": {},
   "outputs": [],
   "source": [
    "import os\n",
    "from netcdf2csv import convert_dir\n",
    "\n",
    "current_dir = './'\n",
    "dirs = [d for d in os.listdir(current_dir) if os.path.isdir(os.path.join(current_dir, d))]\n",
    "\n",
    "for dir in dirs:\n",
    "    if dir== 'temp':\n",
    "        continue\n",
    "    csv_dir = dir + \"_csv\"\n",
    "    os.makedirs(csv_dir)\n",
    "    convert_dir(os.path.join(current_dir, dir), csv_dir, cleaned_csv_dir=current_dir, clean_choice=0)\n"
   ]
  },
  {
   "cell_type": "code",
   "execution_count": 1,
   "metadata": {},
   "outputs": [
    {
     "name": "stdout",
     "output_type": "stream",
     "text": [
      "gebco_2023_n38.933_s37.4955_w20.2114_e22.0318.nc has been processed to csv and saved to :-GEBCO_03_Feb_2024_7224d98466a9/uncleaned_gebco_2023_n38.933_s37.4955_w20.2114_e22.0318.csv\n",
      "Progress: |████████████████████████████████████████████████████████████████████████████████████████████████████| 100.0% Complete\n"
     ]
    }
   ],
   "source": [
    "from netcdf2csv import convert_file\n",
    "\n",
    "filepath=\"./GEBCO_03_Feb_2024_7224d98466a9/gebco_2023_n38.933_s37.4955_w20.2114_e22.0318.nc\"\n",
    "\n",
    "convert_file(filepath,\"GEBCO_03_Feb_2024_7224d98466a9\",\"./\",clean_choice=0)"
   ]
  }
 ],
 "metadata": {
  "kernelspec": {
   "display_name": "base",
   "language": "python",
   "name": "python3"
  },
  "language_info": {
   "codemirror_mode": {
    "name": "ipython",
    "version": 3
   },
   "file_extension": ".py",
   "mimetype": "text/x-python",
   "name": "python",
   "nbconvert_exporter": "python",
   "pygments_lexer": "ipython3",
   "version": "3.11.4"
  }
 },
 "nbformat": 4,
 "nbformat_minor": 2
}
