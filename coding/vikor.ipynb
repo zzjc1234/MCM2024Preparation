{
 "cells": [
  {
   "cell_type": "code",
   "execution_count": 78,
   "metadata": {},
   "outputs": [
    {
     "name": "stdout",
     "output_type": "stream",
     "text": [
      "   Attribute  CGPA  Expected Stipend  Technical Exam Score  \\\n",
      "1  Student 1   9.0           12000.0                  72.0   \n",
      "2  Student 2   7.6            8500.0                  68.0   \n",
      "3  Student 3   8.2            9500.0                  63.0   \n",
      "4  Student 4   8.5           10000.0                  70.0   \n",
      "5  Student 5   9.3           14000.0                  72.0   \n",
      "\n",
      "   Aptitude Test Grade  \n",
      "1                  3.0  \n",
      "2                  3.0  \n",
      "3                  2.0  \n",
      "4                  4.0  \n",
      "5                  4.0  \n"
     ]
    }
   ],
   "source": [
    "import pandas as pd\n",
    "import numpy as np\n",
    "\n",
    "data=pd.read_csv(\"data_vik.csv\")\n",
    "impact=\"+_++\"\n",
    "weights=data.values[0,1:]\n",
    "data=data.drop(0)\n",
    "print(data)"
   ]
  },
  {
   "cell_type": "code",
   "execution_count": 79,
   "metadata": {},
   "outputs": [
    {
     "name": "stdout",
     "output_type": "stream",
     "text": [
      "   Attribute      CGPA  Expected Stipend  Technical Exam Score  \\\n",
      "1  Student 1  0.290323          0.141667              0.250000   \n",
      "2  Student 2  0.245161          0.200000              0.236111   \n",
      "3  Student 3  0.264516          0.178947              0.218750   \n",
      "4  Student 4  0.274194          0.170000              0.243056   \n",
      "5  Student 5  0.300000          0.121429              0.250000   \n",
      "\n",
      "   Aptitude Test Grade Total Score  Rank  \n",
      "1               0.1875    0.869489     3  \n",
      "2               0.1875    0.868772     4  \n",
      "3               0.1250    0.787213     5  \n",
      "4               0.2500    0.937249     1  \n",
      "5               0.2500    0.921429     2  \n"
     ]
    }
   ],
   "source": [
    "# Normalization\n",
    "\n",
    "for i in range(1,len(data.columns)):\n",
    "    if impact[i-1]==\"+\":\n",
    "        data.iloc[:,i]=(data.iloc[:,i]/data.values[:,i].max())*weights[i-1]\n",
    "    else:\n",
    "        data.iloc[:,i]=(data.values[:,i].min()/data.iloc[:,i])*weights[i-1]\n",
    "data[\"Total Score\"]=data.values[:,1:].sum(axis=1)\n",
    "data['Rank'] = (data['Total Score'].rank(method='max', ascending=False))\n",
    "data = data.astype({\"Rank\": int})\n",
    "print(data)"
   ]
  }
 ],
 "metadata": {
  "kernelspec": {
   "display_name": "base",
   "language": "python",
   "name": "python3"
  },
  "language_info": {
   "name": "python",
   "version": "3.11.4"
  }
 },
 "nbformat": 4,
 "nbformat_minor": 2
}
