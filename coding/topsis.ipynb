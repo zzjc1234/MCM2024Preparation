{
 "cells": [
  {
   "cell_type": "code",
   "execution_count": 46,
   "metadata": {},
   "outputs": [
    {
     "name": "stdout",
     "output_type": "stream",
     "text": [
      "  Option  RAM  Memory  Displaystyle  Battery  Price\n",
      "0      A    4     128           6.5     3500  15000\n",
      "1      B    6      64           6.4     3800  16000\n",
      "2      C    6     128           6.8     4200  19000\n",
      "3      D    8     256           7.0     5000  25000\n"
     ]
    }
   ],
   "source": [
    "import pandas as pd\n",
    "import numpy as np\n",
    "\n",
    "data=pd.read_csv(\"data.csv\")\n",
    "print(data)"
   ]
  },
  {
   "cell_type": "code",
   "execution_count": 47,
   "metadata": {},
   "outputs": [
    {
     "name": "stdout",
     "output_type": "stream",
     "text": [
      "  Option       RAM  Memory  Displaystyle   Battery     Price\n",
      "0      A  0.324443     0.4      0.486581  0.420347  0.391630\n",
      "1      B  0.486664     0.2      0.479095  0.456376  0.417739\n",
      "2      C  0.486664     0.4      0.509039  0.504416  0.496065\n",
      "3      D  0.648886     0.8      0.524010  0.600495  0.652717\n"
     ]
    }
   ],
   "source": [
    "# Normalization\n",
    "\n",
    "for i in range(1, len(data.columns)):\n",
    "    temp = 0\n",
    "    # Calculating Root of Sum of squares of a particular column\n",
    "    for j in range(len(data)):\n",
    "        temp = temp + data.iat[j, i]**2\n",
    "    temp = temp**0.5\n",
    "    # Weighted Normalizing a element\n",
    "    for j in range(len(data)):\n",
    "        data.iat[j, i] = (data.iat[j, i] / temp)\n",
    "print(data)"
   ]
  },
  {
   "cell_type": "code",
   "execution_count": 48,
   "metadata": {},
   "outputs": [
    {
     "name": "stdout",
     "output_type": "stream",
     "text": [
      "[0.20227084 0.16718464 0.21421185 0.21060476 0.20572791]\n"
     ]
    }
   ],
   "source": [
    "# Calculate EMW\n",
    "\n",
    "tmp=data[data.keys()[1:]].values\n",
    "entropy = -np.sum(tmp * np.log2(tmp), axis=0)\n",
    "weights = (1 - entropy) / np.sum(1 - entropy)\n",
    "print(weights)"
   ]
  },
  {
   "cell_type": "code",
   "execution_count": 49,
   "metadata": {},
   "outputs": [
    {
     "name": "stdout",
     "output_type": "stream",
     "text": [
      "  Option       RAM    Memory  Displaystyle   Battery     Price\n",
      "0      A  0.065625  0.066874      0.104231  0.088527  0.080569\n",
      "1      B  0.098438  0.033437      0.102628  0.096115  0.085941\n",
      "2      C  0.098438  0.066874      0.109042  0.106232  0.102054\n",
      "3      D  0.131251  0.133748      0.112249  0.126467  0.134282\n"
     ]
    }
   ],
   "source": [
    "for i in range(1,len(data.columns)):\n",
    "    data[data.columns[i]]=data[data.columns[i]]*weights[i-1]\n",
    "print(data)"
   ]
  },
  {
   "cell_type": "code",
   "execution_count": 52,
   "metadata": {},
   "outputs": [],
   "source": [
    "impact=\"++++-\"\n",
    "p_sln = (data.max().values)[1:]\n",
    "n_sln = (data.min().values)[1:]\n",
    "for i in range(1, len(data)):\n",
    "    if impact[i-1] == '-':\n",
    "        p_sln[i-1], n_sln[i-1] = n_sln[i-1], p_sln[i-1]"
   ]
  },
  {
   "cell_type": "code",
   "execution_count": 54,
   "metadata": {},
   "outputs": [
    {
     "name": "stdout",
     "output_type": "stream",
     "text": [
      "  Option       RAM    Memory  Displaystyle   Battery     Price  \\\n",
      "0      A  0.065625  0.066874      0.104231  0.088527  0.080569   \n",
      "1      B  0.098438  0.033437      0.102628  0.096115  0.085941   \n",
      "2      C  0.098438  0.066874      0.109042  0.106232  0.102054   \n",
      "3      D  0.131251  0.133748      0.112249  0.126467  0.134282   \n",
      "\n",
      "   distance positive  distance negative  Topsis Score  Rank  \n",
      "0           0.094038           0.033475      0.262525     3  \n",
      "1           0.105979           0.032813      0.236417     4  \n",
      "2           0.074559           0.047285      0.388076     2  \n",
      "3           0.000000           0.120256      1.000000     1  \n"
     ]
    }
   ],
   "source": [
    "# calculating topsis score\n",
    "score = [] # Topsis score\n",
    "pp = [] # distance positive\n",
    "nn = [] # distance negative\n",
    "\n",
    "\n",
    "# Calculating distances and Topsis score for each row\n",
    "for i in range(len(data)):\n",
    "    temp_p, temp_n = 0, 0\n",
    "    for j in range(1, len(data)):\n",
    "        temp_p = temp_p + (p_sln[j-1] - data.iloc[i, j])**2\n",
    "        temp_n = temp_n + (n_sln[j-1] - data.iloc[i, j])**2\n",
    "    temp_p, temp_n = temp_p**0.5, temp_n**0.5\n",
    "    score.append(temp_n/(temp_p + temp_n))\n",
    "    nn.append(temp_n)\n",
    "    pp.append(temp_p)\n",
    "\n",
    "# Appending new columns in data   \n",
    "\n",
    "data['distance positive'] = pp\n",
    "data['distance negative'] = nn\n",
    "data['Topsis Score'] = score\n",
    "\n",
    "# calculating the rank according to topsis score\n",
    "data['Rank'] = (data['Topsis Score'].rank(method='max', ascending=False))\n",
    "data = data.astype({\"Rank\": int})\n",
    "print(data)"
   ]
  }
 ],
 "metadata": {
  "kernelspec": {
   "display_name": "base",
   "language": "python",
   "name": "python3"
  },
  "language_info": {
   "codemirror_mode": {
    "name": "ipython",
    "version": 3
   },
   "file_extension": ".py",
   "mimetype": "text/x-python",
   "name": "python",
   "nbconvert_exporter": "python",
   "pygments_lexer": "ipython3",
   "version": "3.11.4"
  }
 },
 "nbformat": 4,
 "nbformat_minor": 2
}
